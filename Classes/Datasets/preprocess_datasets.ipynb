{
 "cells": [
  {
   "cell_type": "code",
   "execution_count": 18,
   "metadata": {
    "collapsed": true,
    "ExecuteTime": {
     "start_time": "2024-01-24T16:27:28.645660Z",
     "end_time": "2024-01-24T16:27:28.670585Z"
    }
   },
   "outputs": [],
   "source": [
    "import pandas as pd\n"
   ]
  },
  {
   "cell_type": "code",
   "execution_count": 19,
   "outputs": [],
   "source": [
    "df = pd.read_csv('creditcard.csv')"
   ],
   "metadata": {
    "collapsed": false,
    "ExecuteTime": {
     "start_time": "2024-01-24T16:27:29.088498Z",
     "end_time": "2024-01-24T16:27:32.901140Z"
    }
   }
  },
  {
   "cell_type": "code",
   "execution_count": 20,
   "outputs": [
    {
     "data": {
      "text/plain": "         V1        V2        V3        V4        V5        V6        V7  \\\n0 -1.359807 -0.072781  2.536347  1.378155 -0.338321  0.462388  0.239599   \n1  1.191857  0.266151  0.166480  0.448154  0.060018 -0.082361 -0.078803   \n2 -1.358354 -1.340163  1.773209  0.379780 -0.503198  1.800499  0.791461   \n3 -0.966272 -0.185226  1.792993 -0.863291 -0.010309  1.247203  0.237609   \n4 -1.158233  0.877737  1.548718  0.403034 -0.407193  0.095921  0.592941   \n\n         V8        V9       V10  ...       V21       V22       V23       V24  \\\n0  0.098698  0.363787  0.090794  ... -0.018307  0.277838 -0.110474  0.066928   \n1  0.085102 -0.255425 -0.166974  ... -0.225775 -0.638672  0.101288 -0.339846   \n2  0.247676 -1.514654  0.207643  ...  0.247998  0.771679  0.909412 -0.689281   \n3  0.377436 -1.387024 -0.054952  ... -0.108300  0.005274 -0.190321 -1.175575   \n4 -0.270533  0.817739  0.753074  ... -0.009431  0.798278 -0.137458  0.141267   \n\n        V25       V26       V27       V28  Amount  Class  \n0  0.128539 -0.189115  0.133558 -0.021053  149.62      0  \n1  0.167170  0.125895 -0.008983  0.014724    2.69      0  \n2 -0.327642 -0.139097 -0.055353 -0.059752  378.66      0  \n3  0.647376 -0.221929  0.062723  0.061458  123.50      0  \n4 -0.206010  0.502292  0.219422  0.215153   69.99      0  \n\n[5 rows x 30 columns]",
      "text/html": "<div>\n<style scoped>\n    .dataframe tbody tr th:only-of-type {\n        vertical-align: middle;\n    }\n\n    .dataframe tbody tr th {\n        vertical-align: top;\n    }\n\n    .dataframe thead th {\n        text-align: right;\n    }\n</style>\n<table border=\"1\" class=\"dataframe\">\n  <thead>\n    <tr style=\"text-align: right;\">\n      <th></th>\n      <th>V1</th>\n      <th>V2</th>\n      <th>V3</th>\n      <th>V4</th>\n      <th>V5</th>\n      <th>V6</th>\n      <th>V7</th>\n      <th>V8</th>\n      <th>V9</th>\n      <th>V10</th>\n      <th>...</th>\n      <th>V21</th>\n      <th>V22</th>\n      <th>V23</th>\n      <th>V24</th>\n      <th>V25</th>\n      <th>V26</th>\n      <th>V27</th>\n      <th>V28</th>\n      <th>Amount</th>\n      <th>Class</th>\n    </tr>\n  </thead>\n  <tbody>\n    <tr>\n      <th>0</th>\n      <td>-1.359807</td>\n      <td>-0.072781</td>\n      <td>2.536347</td>\n      <td>1.378155</td>\n      <td>-0.338321</td>\n      <td>0.462388</td>\n      <td>0.239599</td>\n      <td>0.098698</td>\n      <td>0.363787</td>\n      <td>0.090794</td>\n      <td>...</td>\n      <td>-0.018307</td>\n      <td>0.277838</td>\n      <td>-0.110474</td>\n      <td>0.066928</td>\n      <td>0.128539</td>\n      <td>-0.189115</td>\n      <td>0.133558</td>\n      <td>-0.021053</td>\n      <td>149.62</td>\n      <td>0</td>\n    </tr>\n    <tr>\n      <th>1</th>\n      <td>1.191857</td>\n      <td>0.266151</td>\n      <td>0.166480</td>\n      <td>0.448154</td>\n      <td>0.060018</td>\n      <td>-0.082361</td>\n      <td>-0.078803</td>\n      <td>0.085102</td>\n      <td>-0.255425</td>\n      <td>-0.166974</td>\n      <td>...</td>\n      <td>-0.225775</td>\n      <td>-0.638672</td>\n      <td>0.101288</td>\n      <td>-0.339846</td>\n      <td>0.167170</td>\n      <td>0.125895</td>\n      <td>-0.008983</td>\n      <td>0.014724</td>\n      <td>2.69</td>\n      <td>0</td>\n    </tr>\n    <tr>\n      <th>2</th>\n      <td>-1.358354</td>\n      <td>-1.340163</td>\n      <td>1.773209</td>\n      <td>0.379780</td>\n      <td>-0.503198</td>\n      <td>1.800499</td>\n      <td>0.791461</td>\n      <td>0.247676</td>\n      <td>-1.514654</td>\n      <td>0.207643</td>\n      <td>...</td>\n      <td>0.247998</td>\n      <td>0.771679</td>\n      <td>0.909412</td>\n      <td>-0.689281</td>\n      <td>-0.327642</td>\n      <td>-0.139097</td>\n      <td>-0.055353</td>\n      <td>-0.059752</td>\n      <td>378.66</td>\n      <td>0</td>\n    </tr>\n    <tr>\n      <th>3</th>\n      <td>-0.966272</td>\n      <td>-0.185226</td>\n      <td>1.792993</td>\n      <td>-0.863291</td>\n      <td>-0.010309</td>\n      <td>1.247203</td>\n      <td>0.237609</td>\n      <td>0.377436</td>\n      <td>-1.387024</td>\n      <td>-0.054952</td>\n      <td>...</td>\n      <td>-0.108300</td>\n      <td>0.005274</td>\n      <td>-0.190321</td>\n      <td>-1.175575</td>\n      <td>0.647376</td>\n      <td>-0.221929</td>\n      <td>0.062723</td>\n      <td>0.061458</td>\n      <td>123.50</td>\n      <td>0</td>\n    </tr>\n    <tr>\n      <th>4</th>\n      <td>-1.158233</td>\n      <td>0.877737</td>\n      <td>1.548718</td>\n      <td>0.403034</td>\n      <td>-0.407193</td>\n      <td>0.095921</td>\n      <td>0.592941</td>\n      <td>-0.270533</td>\n      <td>0.817739</td>\n      <td>0.753074</td>\n      <td>...</td>\n      <td>-0.009431</td>\n      <td>0.798278</td>\n      <td>-0.137458</td>\n      <td>0.141267</td>\n      <td>-0.206010</td>\n      <td>0.502292</td>\n      <td>0.219422</td>\n      <td>0.215153</td>\n      <td>69.99</td>\n      <td>0</td>\n    </tr>\n  </tbody>\n</table>\n<p>5 rows × 30 columns</p>\n</div>"
     },
     "execution_count": 20,
     "metadata": {},
     "output_type": "execute_result"
    }
   ],
   "source": [
    "df.iloc[:, 1:].head()"
   ],
   "metadata": {
    "collapsed": false,
    "ExecuteTime": {
     "start_time": "2024-01-24T16:27:34.895585Z",
     "end_time": "2024-01-24T16:27:34.955629Z"
    }
   }
  },
  {
   "cell_type": "code",
   "execution_count": 21,
   "outputs": [
    {
     "data": {
      "text/plain": "         V1        V2        V3        V4        V5        V6        V7  \\\n0 -1.359807 -0.072781  2.536347  1.378155 -0.338321  0.462388  0.239599   \n1  1.191857  0.266151  0.166480  0.448154  0.060018 -0.082361 -0.078803   \n2 -1.358354 -1.340163  1.773209  0.379780 -0.503198  1.800499  0.791461   \n3 -0.966272 -0.185226  1.792993 -0.863291 -0.010309  1.247203  0.237609   \n4 -1.158233  0.877737  1.548718  0.403034 -0.407193  0.095921  0.592941   \n\n         V8        V9       V10  ...       V21       V22       V23       V24  \\\n0  0.098698  0.363787  0.090794  ... -0.018307  0.277838 -0.110474  0.066928   \n1  0.085102 -0.255425 -0.166974  ... -0.225775 -0.638672  0.101288 -0.339846   \n2  0.247676 -1.514654  0.207643  ...  0.247998  0.771679  0.909412 -0.689281   \n3  0.377436 -1.387024 -0.054952  ... -0.108300  0.005274 -0.190321 -1.175575   \n4 -0.270533  0.817739  0.753074  ... -0.009431  0.798278 -0.137458  0.141267   \n\n        V25       V26       V27       V28  Amount  Class  \n0  0.128539 -0.189115  0.133558 -0.021053  149.62      0  \n1  0.167170  0.125895 -0.008983  0.014724    2.69      0  \n2 -0.327642 -0.139097 -0.055353 -0.059752  378.66      0  \n3  0.647376 -0.221929  0.062723  0.061458  123.50      0  \n4 -0.206010  0.502292  0.219422  0.215153   69.99      0  \n\n[5 rows x 30 columns]",
      "text/html": "<div>\n<style scoped>\n    .dataframe tbody tr th:only-of-type {\n        vertical-align: middle;\n    }\n\n    .dataframe tbody tr th {\n        vertical-align: top;\n    }\n\n    .dataframe thead th {\n        text-align: right;\n    }\n</style>\n<table border=\"1\" class=\"dataframe\">\n  <thead>\n    <tr style=\"text-align: right;\">\n      <th></th>\n      <th>V1</th>\n      <th>V2</th>\n      <th>V3</th>\n      <th>V4</th>\n      <th>V5</th>\n      <th>V6</th>\n      <th>V7</th>\n      <th>V8</th>\n      <th>V9</th>\n      <th>V10</th>\n      <th>...</th>\n      <th>V21</th>\n      <th>V22</th>\n      <th>V23</th>\n      <th>V24</th>\n      <th>V25</th>\n      <th>V26</th>\n      <th>V27</th>\n      <th>V28</th>\n      <th>Amount</th>\n      <th>Class</th>\n    </tr>\n  </thead>\n  <tbody>\n    <tr>\n      <th>0</th>\n      <td>-1.359807</td>\n      <td>-0.072781</td>\n      <td>2.536347</td>\n      <td>1.378155</td>\n      <td>-0.338321</td>\n      <td>0.462388</td>\n      <td>0.239599</td>\n      <td>0.098698</td>\n      <td>0.363787</td>\n      <td>0.090794</td>\n      <td>...</td>\n      <td>-0.018307</td>\n      <td>0.277838</td>\n      <td>-0.110474</td>\n      <td>0.066928</td>\n      <td>0.128539</td>\n      <td>-0.189115</td>\n      <td>0.133558</td>\n      <td>-0.021053</td>\n      <td>149.62</td>\n      <td>0</td>\n    </tr>\n    <tr>\n      <th>1</th>\n      <td>1.191857</td>\n      <td>0.266151</td>\n      <td>0.166480</td>\n      <td>0.448154</td>\n      <td>0.060018</td>\n      <td>-0.082361</td>\n      <td>-0.078803</td>\n      <td>0.085102</td>\n      <td>-0.255425</td>\n      <td>-0.166974</td>\n      <td>...</td>\n      <td>-0.225775</td>\n      <td>-0.638672</td>\n      <td>0.101288</td>\n      <td>-0.339846</td>\n      <td>0.167170</td>\n      <td>0.125895</td>\n      <td>-0.008983</td>\n      <td>0.014724</td>\n      <td>2.69</td>\n      <td>0</td>\n    </tr>\n    <tr>\n      <th>2</th>\n      <td>-1.358354</td>\n      <td>-1.340163</td>\n      <td>1.773209</td>\n      <td>0.379780</td>\n      <td>-0.503198</td>\n      <td>1.800499</td>\n      <td>0.791461</td>\n      <td>0.247676</td>\n      <td>-1.514654</td>\n      <td>0.207643</td>\n      <td>...</td>\n      <td>0.247998</td>\n      <td>0.771679</td>\n      <td>0.909412</td>\n      <td>-0.689281</td>\n      <td>-0.327642</td>\n      <td>-0.139097</td>\n      <td>-0.055353</td>\n      <td>-0.059752</td>\n      <td>378.66</td>\n      <td>0</td>\n    </tr>\n    <tr>\n      <th>3</th>\n      <td>-0.966272</td>\n      <td>-0.185226</td>\n      <td>1.792993</td>\n      <td>-0.863291</td>\n      <td>-0.010309</td>\n      <td>1.247203</td>\n      <td>0.237609</td>\n      <td>0.377436</td>\n      <td>-1.387024</td>\n      <td>-0.054952</td>\n      <td>...</td>\n      <td>-0.108300</td>\n      <td>0.005274</td>\n      <td>-0.190321</td>\n      <td>-1.175575</td>\n      <td>0.647376</td>\n      <td>-0.221929</td>\n      <td>0.062723</td>\n      <td>0.061458</td>\n      <td>123.50</td>\n      <td>0</td>\n    </tr>\n    <tr>\n      <th>4</th>\n      <td>-1.158233</td>\n      <td>0.877737</td>\n      <td>1.548718</td>\n      <td>0.403034</td>\n      <td>-0.407193</td>\n      <td>0.095921</td>\n      <td>0.592941</td>\n      <td>-0.270533</td>\n      <td>0.817739</td>\n      <td>0.753074</td>\n      <td>...</td>\n      <td>-0.009431</td>\n      <td>0.798278</td>\n      <td>-0.137458</td>\n      <td>0.141267</td>\n      <td>-0.206010</td>\n      <td>0.502292</td>\n      <td>0.219422</td>\n      <td>0.215153</td>\n      <td>69.99</td>\n      <td>0</td>\n    </tr>\n  </tbody>\n</table>\n<p>5 rows × 30 columns</p>\n</div>"
     },
     "execution_count": 21,
     "metadata": {},
     "output_type": "execute_result"
    }
   ],
   "source": [
    "df_to_store = df.iloc[:, 1:]\n",
    "df_to_store.head()"
   ],
   "metadata": {
    "collapsed": false,
    "ExecuteTime": {
     "start_time": "2024-01-24T16:27:41.716727Z",
     "end_time": "2024-01-24T16:27:41.793358Z"
    }
   }
  },
  {
   "cell_type": "code",
   "execution_count": 33,
   "outputs": [
    {
     "data": {
      "text/plain": "              V1        V2        V3        V4        V5        V6        V7  \\\n0       0.935192  0.766490  0.881365  0.313023  0.763439  0.267669  0.266815   \n1       0.978542  0.770067  0.840298  0.271796  0.766120  0.262192  0.264875   \n2       0.935217  0.753118  0.868141  0.268766  0.762329  0.281122  0.270177   \n3       0.941878  0.765304  0.868484  0.213661  0.765647  0.275559  0.266803   \n4       0.938617  0.776520  0.864251  0.269796  0.762975  0.263984  0.268968   \n...          ...       ...       ...       ...       ...       ...       ...   \n284802  0.756448  0.873531  0.666991  0.160317  0.729603  0.236810  0.235393   \n284803  0.945845  0.766677  0.872678  0.219189  0.771561  0.273661  0.265504   \n284804  0.990905  0.764080  0.781102  0.227202  0.783425  0.293496  0.263547   \n284805  0.954209  0.772856  0.849587  0.282508  0.763172  0.269291  0.261175   \n284806  0.949232  0.765256  0.849601  0.229488  0.765632  0.256488  0.274963   \n\n              V8        V9       V10  ...       V21       V22       V23  \\\n0       0.786444  0.475312  0.510600  ...  0.561184  0.522992  0.663793   \n1       0.786298  0.453981  0.505267  ...  0.557840  0.480237  0.666938   \n2       0.788042  0.410603  0.513018  ...  0.565477  0.546030  0.678939   \n3       0.789434  0.414999  0.507585  ...  0.559734  0.510277  0.662607   \n4       0.782484  0.490950  0.524303  ...  0.561327  0.547271  0.663392   \n...          ...       ...       ...  ...       ...       ...       ...   \n284802  0.863749  0.528729  0.598850  ...  0.564920  0.515249  0.680500   \n284803  0.788548  0.482925  0.488530  ...  0.564933  0.553153  0.665619   \n284804  0.792985  0.477677  0.498692  ...  0.565220  0.537005  0.664877   \n284805  0.792671  0.476287  0.500464  ...  0.565755  0.547353  0.663008   \n284806  0.780938  0.479528  0.489782  ...  0.565688  0.540031  0.671029   \n\n             V24       V25       V26       V27       V28    Amount  Class  \n0       0.391253  0.585122  0.394557  0.418976  0.312697  0.005824    0.0  \n1       0.336440  0.587290  0.446013  0.416345  0.313423  0.000105    0.0  \n2       0.289354  0.559515  0.402727  0.415489  0.311911  0.014739    0.0  \n3       0.223826  0.614245  0.389197  0.417669  0.314371  0.004807    0.0  \n4       0.401270  0.566343  0.507497  0.420561  0.317490  0.002724    0.0  \n...          ...       ...       ...       ...       ...       ...    ...  \n284802  0.313600  0.658558  0.466291  0.433929  0.329840  0.000030    0.0  \n284803  0.245298  0.543855  0.360884  0.417775  0.312038  0.000965    0.0  \n284804  0.468492  0.592824  0.411177  0.416593  0.312585  0.002642    0.0  \n284805  0.398836  0.545958  0.514746  0.418520  0.315245  0.000389    0.0  \n284806  0.383420  0.551319  0.291786  0.416466  0.313401  0.008446    0.0  \n\n[284807 rows x 30 columns]",
      "text/html": "<div>\n<style scoped>\n    .dataframe tbody tr th:only-of-type {\n        vertical-align: middle;\n    }\n\n    .dataframe tbody tr th {\n        vertical-align: top;\n    }\n\n    .dataframe thead th {\n        text-align: right;\n    }\n</style>\n<table border=\"1\" class=\"dataframe\">\n  <thead>\n    <tr style=\"text-align: right;\">\n      <th></th>\n      <th>V1</th>\n      <th>V2</th>\n      <th>V3</th>\n      <th>V4</th>\n      <th>V5</th>\n      <th>V6</th>\n      <th>V7</th>\n      <th>V8</th>\n      <th>V9</th>\n      <th>V10</th>\n      <th>...</th>\n      <th>V21</th>\n      <th>V22</th>\n      <th>V23</th>\n      <th>V24</th>\n      <th>V25</th>\n      <th>V26</th>\n      <th>V27</th>\n      <th>V28</th>\n      <th>Amount</th>\n      <th>Class</th>\n    </tr>\n  </thead>\n  <tbody>\n    <tr>\n      <th>0</th>\n      <td>0.935192</td>\n      <td>0.766490</td>\n      <td>0.881365</td>\n      <td>0.313023</td>\n      <td>0.763439</td>\n      <td>0.267669</td>\n      <td>0.266815</td>\n      <td>0.786444</td>\n      <td>0.475312</td>\n      <td>0.510600</td>\n      <td>...</td>\n      <td>0.561184</td>\n      <td>0.522992</td>\n      <td>0.663793</td>\n      <td>0.391253</td>\n      <td>0.585122</td>\n      <td>0.394557</td>\n      <td>0.418976</td>\n      <td>0.312697</td>\n      <td>0.005824</td>\n      <td>0.0</td>\n    </tr>\n    <tr>\n      <th>1</th>\n      <td>0.978542</td>\n      <td>0.770067</td>\n      <td>0.840298</td>\n      <td>0.271796</td>\n      <td>0.766120</td>\n      <td>0.262192</td>\n      <td>0.264875</td>\n      <td>0.786298</td>\n      <td>0.453981</td>\n      <td>0.505267</td>\n      <td>...</td>\n      <td>0.557840</td>\n      <td>0.480237</td>\n      <td>0.666938</td>\n      <td>0.336440</td>\n      <td>0.587290</td>\n      <td>0.446013</td>\n      <td>0.416345</td>\n      <td>0.313423</td>\n      <td>0.000105</td>\n      <td>0.0</td>\n    </tr>\n    <tr>\n      <th>2</th>\n      <td>0.935217</td>\n      <td>0.753118</td>\n      <td>0.868141</td>\n      <td>0.268766</td>\n      <td>0.762329</td>\n      <td>0.281122</td>\n      <td>0.270177</td>\n      <td>0.788042</td>\n      <td>0.410603</td>\n      <td>0.513018</td>\n      <td>...</td>\n      <td>0.565477</td>\n      <td>0.546030</td>\n      <td>0.678939</td>\n      <td>0.289354</td>\n      <td>0.559515</td>\n      <td>0.402727</td>\n      <td>0.415489</td>\n      <td>0.311911</td>\n      <td>0.014739</td>\n      <td>0.0</td>\n    </tr>\n    <tr>\n      <th>3</th>\n      <td>0.941878</td>\n      <td>0.765304</td>\n      <td>0.868484</td>\n      <td>0.213661</td>\n      <td>0.765647</td>\n      <td>0.275559</td>\n      <td>0.266803</td>\n      <td>0.789434</td>\n      <td>0.414999</td>\n      <td>0.507585</td>\n      <td>...</td>\n      <td>0.559734</td>\n      <td>0.510277</td>\n      <td>0.662607</td>\n      <td>0.223826</td>\n      <td>0.614245</td>\n      <td>0.389197</td>\n      <td>0.417669</td>\n      <td>0.314371</td>\n      <td>0.004807</td>\n      <td>0.0</td>\n    </tr>\n    <tr>\n      <th>4</th>\n      <td>0.938617</td>\n      <td>0.776520</td>\n      <td>0.864251</td>\n      <td>0.269796</td>\n      <td>0.762975</td>\n      <td>0.263984</td>\n      <td>0.268968</td>\n      <td>0.782484</td>\n      <td>0.490950</td>\n      <td>0.524303</td>\n      <td>...</td>\n      <td>0.561327</td>\n      <td>0.547271</td>\n      <td>0.663392</td>\n      <td>0.401270</td>\n      <td>0.566343</td>\n      <td>0.507497</td>\n      <td>0.420561</td>\n      <td>0.317490</td>\n      <td>0.002724</td>\n      <td>0.0</td>\n    </tr>\n    <tr>\n      <th>...</th>\n      <td>...</td>\n      <td>...</td>\n      <td>...</td>\n      <td>...</td>\n      <td>...</td>\n      <td>...</td>\n      <td>...</td>\n      <td>...</td>\n      <td>...</td>\n      <td>...</td>\n      <td>...</td>\n      <td>...</td>\n      <td>...</td>\n      <td>...</td>\n      <td>...</td>\n      <td>...</td>\n      <td>...</td>\n      <td>...</td>\n      <td>...</td>\n      <td>...</td>\n      <td>...</td>\n    </tr>\n    <tr>\n      <th>284802</th>\n      <td>0.756448</td>\n      <td>0.873531</td>\n      <td>0.666991</td>\n      <td>0.160317</td>\n      <td>0.729603</td>\n      <td>0.236810</td>\n      <td>0.235393</td>\n      <td>0.863749</td>\n      <td>0.528729</td>\n      <td>0.598850</td>\n      <td>...</td>\n      <td>0.564920</td>\n      <td>0.515249</td>\n      <td>0.680500</td>\n      <td>0.313600</td>\n      <td>0.658558</td>\n      <td>0.466291</td>\n      <td>0.433929</td>\n      <td>0.329840</td>\n      <td>0.000030</td>\n      <td>0.0</td>\n    </tr>\n    <tr>\n      <th>284803</th>\n      <td>0.945845</td>\n      <td>0.766677</td>\n      <td>0.872678</td>\n      <td>0.219189</td>\n      <td>0.771561</td>\n      <td>0.273661</td>\n      <td>0.265504</td>\n      <td>0.788548</td>\n      <td>0.482925</td>\n      <td>0.488530</td>\n      <td>...</td>\n      <td>0.564933</td>\n      <td>0.553153</td>\n      <td>0.665619</td>\n      <td>0.245298</td>\n      <td>0.543855</td>\n      <td>0.360884</td>\n      <td>0.417775</td>\n      <td>0.312038</td>\n      <td>0.000965</td>\n      <td>0.0</td>\n    </tr>\n    <tr>\n      <th>284804</th>\n      <td>0.990905</td>\n      <td>0.764080</td>\n      <td>0.781102</td>\n      <td>0.227202</td>\n      <td>0.783425</td>\n      <td>0.293496</td>\n      <td>0.263547</td>\n      <td>0.792985</td>\n      <td>0.477677</td>\n      <td>0.498692</td>\n      <td>...</td>\n      <td>0.565220</td>\n      <td>0.537005</td>\n      <td>0.664877</td>\n      <td>0.468492</td>\n      <td>0.592824</td>\n      <td>0.411177</td>\n      <td>0.416593</td>\n      <td>0.312585</td>\n      <td>0.002642</td>\n      <td>0.0</td>\n    </tr>\n    <tr>\n      <th>284805</th>\n      <td>0.954209</td>\n      <td>0.772856</td>\n      <td>0.849587</td>\n      <td>0.282508</td>\n      <td>0.763172</td>\n      <td>0.269291</td>\n      <td>0.261175</td>\n      <td>0.792671</td>\n      <td>0.476287</td>\n      <td>0.500464</td>\n      <td>...</td>\n      <td>0.565755</td>\n      <td>0.547353</td>\n      <td>0.663008</td>\n      <td>0.398836</td>\n      <td>0.545958</td>\n      <td>0.514746</td>\n      <td>0.418520</td>\n      <td>0.315245</td>\n      <td>0.000389</td>\n      <td>0.0</td>\n    </tr>\n    <tr>\n      <th>284806</th>\n      <td>0.949232</td>\n      <td>0.765256</td>\n      <td>0.849601</td>\n      <td>0.229488</td>\n      <td>0.765632</td>\n      <td>0.256488</td>\n      <td>0.274963</td>\n      <td>0.780938</td>\n      <td>0.479528</td>\n      <td>0.489782</td>\n      <td>...</td>\n      <td>0.565688</td>\n      <td>0.540031</td>\n      <td>0.671029</td>\n      <td>0.383420</td>\n      <td>0.551319</td>\n      <td>0.291786</td>\n      <td>0.416466</td>\n      <td>0.313401</td>\n      <td>0.008446</td>\n      <td>0.0</td>\n    </tr>\n  </tbody>\n</table>\n<p>284807 rows × 30 columns</p>\n</div>"
     },
     "execution_count": 33,
     "metadata": {},
     "output_type": "execute_result"
    }
   ],
   "source": [
    "import sklearn\n",
    "from sklearn.preprocessing import MinMaxScaler\n",
    "import numpy as np\n",
    "\n",
    "new_values = np.zeros(df_to_store.shape)\n",
    "scaled_features= MinMaxScaler().fit_transform(df_to_store.values[:,:-1])\n",
    "new_values[:, :-1] = scaled_features\n",
    "new_values[:,-1] =df_to_store['Class']\n",
    "scaled_features_df = pd.DataFrame(new_values, index=df_to_store.index, columns=df_to_store.columns)\n",
    "\n",
    "scaled_features_df"
   ],
   "metadata": {
    "collapsed": false,
    "ExecuteTime": {
     "start_time": "2024-01-24T16:30:05.376077Z",
     "end_time": "2024-01-24T16:30:05.623653Z"
    }
   }
  },
  {
   "cell_type": "code",
   "execution_count": 34,
   "outputs": [
    {
     "data": {
      "text/plain": "(1.0, 1.0, 0.0)"
     },
     "execution_count": 34,
     "metadata": {},
     "output_type": "execute_result"
    }
   ],
   "source": [
    "max(scaled_features_df['Class']) , max(scaled_features_df['Amount']), min(scaled_features_df['Amount'])\n"
   ],
   "metadata": {
    "collapsed": false,
    "ExecuteTime": {
     "start_time": "2024-01-24T16:30:05.628185Z",
     "end_time": "2024-01-24T16:30:05.855365Z"
    }
   }
  },
  {
   "cell_type": "code",
   "execution_count": 36,
   "outputs": [],
   "source": [
    "scaled_features_df.to_csv('creditcard_clean.csv',index=False)"
   ],
   "metadata": {
    "collapsed": false,
    "ExecuteTime": {
     "start_time": "2024-01-24T16:30:29.404963Z",
     "end_time": "2024-01-24T16:30:47.743202Z"
    }
   }
  },
  {
   "cell_type": "code",
   "execution_count": 41,
   "outputs": [],
   "source": [
    "df_vesta = pd.read_csv('vesta_fullDataset.csv')"
   ],
   "metadata": {
    "collapsed": false,
    "ExecuteTime": {
     "start_time": "2024-01-25T15:43:47.457576Z",
     "end_time": "2024-01-25T15:43:56.911215Z"
    }
   }
  },
  {
   "cell_type": "code",
   "execution_count": 48,
   "outputs": [
    {
     "data": {
      "text/plain": "   isFraud  TransactionAmt  card1  card2  card3  card5   C1   C2   C3   C4  \\\n0        0            68.5  13926    NaN  150.0  142.0  1.0  1.0  0.0  0.0   \n1        0            29.0   2755  404.0  150.0  102.0  1.0  1.0  0.0  0.0   \n2        0            59.0   4663  490.0  150.0  166.0  1.0  1.0  0.0  0.0   \n3        0            50.0  18132  567.0  150.0  117.0  2.0  5.0  0.0  0.0   \n4        0            50.0   4497  514.0  150.0  102.0  1.0  1.0  0.0  0.0   \n\n   ...   V312  V313  V314  V315  V316    V317   V318  V319  V320  V321  \n0  ...    0.0   0.0   0.0   0.0   0.0   117.0    0.0   0.0   0.0   0.0  \n1  ...    0.0   0.0   0.0   0.0   0.0     0.0    0.0   0.0   0.0   0.0  \n2  ...    0.0   0.0   0.0   0.0   0.0     0.0    0.0   0.0   0.0   0.0  \n3  ...  135.0   0.0   0.0   0.0  50.0  1404.0  790.0   0.0   0.0   0.0  \n4  ...    0.0   0.0   0.0   0.0   0.0     0.0    0.0   0.0   0.0   0.0  \n\n[5 rows x 107 columns]",
      "text/html": "<div>\n<style scoped>\n    .dataframe tbody tr th:only-of-type {\n        vertical-align: middle;\n    }\n\n    .dataframe tbody tr th {\n        vertical-align: top;\n    }\n\n    .dataframe thead th {\n        text-align: right;\n    }\n</style>\n<table border=\"1\" class=\"dataframe\">\n  <thead>\n    <tr style=\"text-align: right;\">\n      <th></th>\n      <th>isFraud</th>\n      <th>TransactionAmt</th>\n      <th>card1</th>\n      <th>card2</th>\n      <th>card3</th>\n      <th>card5</th>\n      <th>C1</th>\n      <th>C2</th>\n      <th>C3</th>\n      <th>C4</th>\n      <th>...</th>\n      <th>V312</th>\n      <th>V313</th>\n      <th>V314</th>\n      <th>V315</th>\n      <th>V316</th>\n      <th>V317</th>\n      <th>V318</th>\n      <th>V319</th>\n      <th>V320</th>\n      <th>V321</th>\n    </tr>\n  </thead>\n  <tbody>\n    <tr>\n      <th>0</th>\n      <td>0</td>\n      <td>68.5</td>\n      <td>13926</td>\n      <td>NaN</td>\n      <td>150.0</td>\n      <td>142.0</td>\n      <td>1.0</td>\n      <td>1.0</td>\n      <td>0.0</td>\n      <td>0.0</td>\n      <td>...</td>\n      <td>0.0</td>\n      <td>0.0</td>\n      <td>0.0</td>\n      <td>0.0</td>\n      <td>0.0</td>\n      <td>117.0</td>\n      <td>0.0</td>\n      <td>0.0</td>\n      <td>0.0</td>\n      <td>0.0</td>\n    </tr>\n    <tr>\n      <th>1</th>\n      <td>0</td>\n      <td>29.0</td>\n      <td>2755</td>\n      <td>404.0</td>\n      <td>150.0</td>\n      <td>102.0</td>\n      <td>1.0</td>\n      <td>1.0</td>\n      <td>0.0</td>\n      <td>0.0</td>\n      <td>...</td>\n      <td>0.0</td>\n      <td>0.0</td>\n      <td>0.0</td>\n      <td>0.0</td>\n      <td>0.0</td>\n      <td>0.0</td>\n      <td>0.0</td>\n      <td>0.0</td>\n      <td>0.0</td>\n      <td>0.0</td>\n    </tr>\n    <tr>\n      <th>2</th>\n      <td>0</td>\n      <td>59.0</td>\n      <td>4663</td>\n      <td>490.0</td>\n      <td>150.0</td>\n      <td>166.0</td>\n      <td>1.0</td>\n      <td>1.0</td>\n      <td>0.0</td>\n      <td>0.0</td>\n      <td>...</td>\n      <td>0.0</td>\n      <td>0.0</td>\n      <td>0.0</td>\n      <td>0.0</td>\n      <td>0.0</td>\n      <td>0.0</td>\n      <td>0.0</td>\n      <td>0.0</td>\n      <td>0.0</td>\n      <td>0.0</td>\n    </tr>\n    <tr>\n      <th>3</th>\n      <td>0</td>\n      <td>50.0</td>\n      <td>18132</td>\n      <td>567.0</td>\n      <td>150.0</td>\n      <td>117.0</td>\n      <td>2.0</td>\n      <td>5.0</td>\n      <td>0.0</td>\n      <td>0.0</td>\n      <td>...</td>\n      <td>135.0</td>\n      <td>0.0</td>\n      <td>0.0</td>\n      <td>0.0</td>\n      <td>50.0</td>\n      <td>1404.0</td>\n      <td>790.0</td>\n      <td>0.0</td>\n      <td>0.0</td>\n      <td>0.0</td>\n    </tr>\n    <tr>\n      <th>4</th>\n      <td>0</td>\n      <td>50.0</td>\n      <td>4497</td>\n      <td>514.0</td>\n      <td>150.0</td>\n      <td>102.0</td>\n      <td>1.0</td>\n      <td>1.0</td>\n      <td>0.0</td>\n      <td>0.0</td>\n      <td>...</td>\n      <td>0.0</td>\n      <td>0.0</td>\n      <td>0.0</td>\n      <td>0.0</td>\n      <td>0.0</td>\n      <td>0.0</td>\n      <td>0.0</td>\n      <td>0.0</td>\n      <td>0.0</td>\n      <td>0.0</td>\n    </tr>\n  </tbody>\n</table>\n<p>5 rows × 107 columns</p>\n</div>"
     },
     "execution_count": 48,
     "metadata": {},
     "output_type": "execute_result"
    }
   ],
   "source": [
    "df_vesta.iloc[:,2:].drop('TransactionDT', axis=1).head()\n"
   ],
   "metadata": {
    "collapsed": false,
    "ExecuteTime": {
     "start_time": "2024-01-25T15:45:43.748572Z",
     "end_time": "2024-01-25T15:45:44.346809Z"
    }
   }
  },
  {
   "cell_type": "code",
   "execution_count": 62,
   "outputs": [
    {
     "data": {
      "text/plain": "   isFraud  TransactionAmt  card1  card2  card3  card5   C1   C2   C3   C4  \\\n0        0            68.5  13926    NaN  150.0  142.0  1.0  1.0  0.0  0.0   \n1        0            29.0   2755  404.0  150.0  102.0  1.0  1.0  0.0  0.0   \n2        0            59.0   4663  490.0  150.0  166.0  1.0  1.0  0.0  0.0   \n3        0            50.0  18132  567.0  150.0  117.0  2.0  5.0  0.0  0.0   \n4        0            50.0   4497  514.0  150.0  102.0  1.0  1.0  0.0  0.0   \n5        0            49.0   5937  555.0  150.0  226.0  1.0  1.0  0.0  0.0   \n\n   ...   V312  V313  V314  V315  V316    V317   V318  V319  V320  V321  \n0  ...    0.0   0.0   0.0   0.0   0.0   117.0    0.0   0.0   0.0   0.0  \n1  ...    0.0   0.0   0.0   0.0   0.0     0.0    0.0   0.0   0.0   0.0  \n2  ...    0.0   0.0   0.0   0.0   0.0     0.0    0.0   0.0   0.0   0.0  \n3  ...  135.0   0.0   0.0   0.0  50.0  1404.0  790.0   0.0   0.0   0.0  \n4  ...    0.0   0.0   0.0   0.0   0.0     0.0    0.0   0.0   0.0   0.0  \n5  ...    0.0   0.0   0.0   0.0   0.0     0.0    0.0   0.0   0.0   0.0  \n\n[6 rows x 107 columns]",
      "text/html": "<div>\n<style scoped>\n    .dataframe tbody tr th:only-of-type {\n        vertical-align: middle;\n    }\n\n    .dataframe tbody tr th {\n        vertical-align: top;\n    }\n\n    .dataframe thead th {\n        text-align: right;\n    }\n</style>\n<table border=\"1\" class=\"dataframe\">\n  <thead>\n    <tr style=\"text-align: right;\">\n      <th></th>\n      <th>isFraud</th>\n      <th>TransactionAmt</th>\n      <th>card1</th>\n      <th>card2</th>\n      <th>card3</th>\n      <th>card5</th>\n      <th>C1</th>\n      <th>C2</th>\n      <th>C3</th>\n      <th>C4</th>\n      <th>...</th>\n      <th>V312</th>\n      <th>V313</th>\n      <th>V314</th>\n      <th>V315</th>\n      <th>V316</th>\n      <th>V317</th>\n      <th>V318</th>\n      <th>V319</th>\n      <th>V320</th>\n      <th>V321</th>\n    </tr>\n  </thead>\n  <tbody>\n    <tr>\n      <th>0</th>\n      <td>0</td>\n      <td>68.5</td>\n      <td>13926</td>\n      <td>NaN</td>\n      <td>150.0</td>\n      <td>142.0</td>\n      <td>1.0</td>\n      <td>1.0</td>\n      <td>0.0</td>\n      <td>0.0</td>\n      <td>...</td>\n      <td>0.0</td>\n      <td>0.0</td>\n      <td>0.0</td>\n      <td>0.0</td>\n      <td>0.0</td>\n      <td>117.0</td>\n      <td>0.0</td>\n      <td>0.0</td>\n      <td>0.0</td>\n      <td>0.0</td>\n    </tr>\n    <tr>\n      <th>1</th>\n      <td>0</td>\n      <td>29.0</td>\n      <td>2755</td>\n      <td>404.0</td>\n      <td>150.0</td>\n      <td>102.0</td>\n      <td>1.0</td>\n      <td>1.0</td>\n      <td>0.0</td>\n      <td>0.0</td>\n      <td>...</td>\n      <td>0.0</td>\n      <td>0.0</td>\n      <td>0.0</td>\n      <td>0.0</td>\n      <td>0.0</td>\n      <td>0.0</td>\n      <td>0.0</td>\n      <td>0.0</td>\n      <td>0.0</td>\n      <td>0.0</td>\n    </tr>\n    <tr>\n      <th>2</th>\n      <td>0</td>\n      <td>59.0</td>\n      <td>4663</td>\n      <td>490.0</td>\n      <td>150.0</td>\n      <td>166.0</td>\n      <td>1.0</td>\n      <td>1.0</td>\n      <td>0.0</td>\n      <td>0.0</td>\n      <td>...</td>\n      <td>0.0</td>\n      <td>0.0</td>\n      <td>0.0</td>\n      <td>0.0</td>\n      <td>0.0</td>\n      <td>0.0</td>\n      <td>0.0</td>\n      <td>0.0</td>\n      <td>0.0</td>\n      <td>0.0</td>\n    </tr>\n    <tr>\n      <th>3</th>\n      <td>0</td>\n      <td>50.0</td>\n      <td>18132</td>\n      <td>567.0</td>\n      <td>150.0</td>\n      <td>117.0</td>\n      <td>2.0</td>\n      <td>5.0</td>\n      <td>0.0</td>\n      <td>0.0</td>\n      <td>...</td>\n      <td>135.0</td>\n      <td>0.0</td>\n      <td>0.0</td>\n      <td>0.0</td>\n      <td>50.0</td>\n      <td>1404.0</td>\n      <td>790.0</td>\n      <td>0.0</td>\n      <td>0.0</td>\n      <td>0.0</td>\n    </tr>\n    <tr>\n      <th>4</th>\n      <td>0</td>\n      <td>50.0</td>\n      <td>4497</td>\n      <td>514.0</td>\n      <td>150.0</td>\n      <td>102.0</td>\n      <td>1.0</td>\n      <td>1.0</td>\n      <td>0.0</td>\n      <td>0.0</td>\n      <td>...</td>\n      <td>0.0</td>\n      <td>0.0</td>\n      <td>0.0</td>\n      <td>0.0</td>\n      <td>0.0</td>\n      <td>0.0</td>\n      <td>0.0</td>\n      <td>0.0</td>\n      <td>0.0</td>\n      <td>0.0</td>\n    </tr>\n    <tr>\n      <th>5</th>\n      <td>0</td>\n      <td>49.0</td>\n      <td>5937</td>\n      <td>555.0</td>\n      <td>150.0</td>\n      <td>226.0</td>\n      <td>1.0</td>\n      <td>1.0</td>\n      <td>0.0</td>\n      <td>0.0</td>\n      <td>...</td>\n      <td>0.0</td>\n      <td>0.0</td>\n      <td>0.0</td>\n      <td>0.0</td>\n      <td>0.0</td>\n      <td>0.0</td>\n      <td>0.0</td>\n      <td>0.0</td>\n      <td>0.0</td>\n      <td>0.0</td>\n    </tr>\n  </tbody>\n</table>\n<p>6 rows × 107 columns</p>\n</div>"
     },
     "execution_count": 62,
     "metadata": {},
     "output_type": "execute_result"
    }
   ],
   "source": [
    "df_toStore = df_vesta.iloc[:,2:].drop('TransactionDT', axis=1)\n",
    "df_toStore.head(6)"
   ],
   "metadata": {
    "collapsed": false,
    "ExecuteTime": {
     "start_time": "2024-01-25T16:03:28.828885Z",
     "end_time": "2024-01-25T16:03:29.153052Z"
    }
   }
  },
  {
   "cell_type": "code",
   "execution_count": 63,
   "outputs": [
    {
     "data": {
      "text/plain": "   isFraud  TransactionAmt     card1  card2     card3     card5        C1  \\\n0      0.0        0.002137  0.743044    NaN  0.381679  0.306569  0.000213   \n1      0.0        0.000900  0.100885  0.608  0.381679  0.014599  0.000213   \n2      0.0        0.001839  0.210566  0.780  0.381679  0.481752  0.000213   \n3      0.0        0.001558  0.984824  0.934  0.381679  0.124088  0.000427   \n4      0.0        0.001558  0.201023  0.828  0.381679  0.014599  0.000213   \n\n         C2   C3   C4  ...      V312  V313  V314  V315      V316      V317  \\\n0  0.000176  0.0  0.0  ...  0.000000   0.0   0.0   0.0  0.000000  0.000873   \n1  0.000176  0.0  0.0  ...  0.000000   0.0   0.0   0.0  0.000000  0.000000   \n2  0.000176  0.0  0.0  ...  0.000000   0.0   0.0   0.0  0.000000  0.000000   \n3  0.000878  0.0  0.0  ...  0.002448   0.0   0.0   0.0  0.000533  0.010476   \n4  0.000176  0.0  0.0  ...  0.000000   0.0   0.0   0.0  0.000000  0.000000   \n\n       V318  V319  V320  V321  \n0  0.000000   0.0   0.0   0.0  \n1  0.000000   0.0   0.0   0.0  \n2  0.000000   0.0   0.0   0.0  \n3  0.008022   0.0   0.0   0.0  \n4  0.000000   0.0   0.0   0.0  \n\n[5 rows x 107 columns]",
      "text/html": "<div>\n<style scoped>\n    .dataframe tbody tr th:only-of-type {\n        vertical-align: middle;\n    }\n\n    .dataframe tbody tr th {\n        vertical-align: top;\n    }\n\n    .dataframe thead th {\n        text-align: right;\n    }\n</style>\n<table border=\"1\" class=\"dataframe\">\n  <thead>\n    <tr style=\"text-align: right;\">\n      <th></th>\n      <th>isFraud</th>\n      <th>TransactionAmt</th>\n      <th>card1</th>\n      <th>card2</th>\n      <th>card3</th>\n      <th>card5</th>\n      <th>C1</th>\n      <th>C2</th>\n      <th>C3</th>\n      <th>C4</th>\n      <th>...</th>\n      <th>V312</th>\n      <th>V313</th>\n      <th>V314</th>\n      <th>V315</th>\n      <th>V316</th>\n      <th>V317</th>\n      <th>V318</th>\n      <th>V319</th>\n      <th>V320</th>\n      <th>V321</th>\n    </tr>\n  </thead>\n  <tbody>\n    <tr>\n      <th>0</th>\n      <td>0.0</td>\n      <td>0.002137</td>\n      <td>0.743044</td>\n      <td>NaN</td>\n      <td>0.381679</td>\n      <td>0.306569</td>\n      <td>0.000213</td>\n      <td>0.000176</td>\n      <td>0.0</td>\n      <td>0.0</td>\n      <td>...</td>\n      <td>0.000000</td>\n      <td>0.0</td>\n      <td>0.0</td>\n      <td>0.0</td>\n      <td>0.000000</td>\n      <td>0.000873</td>\n      <td>0.000000</td>\n      <td>0.0</td>\n      <td>0.0</td>\n      <td>0.0</td>\n    </tr>\n    <tr>\n      <th>1</th>\n      <td>0.0</td>\n      <td>0.000900</td>\n      <td>0.100885</td>\n      <td>0.608</td>\n      <td>0.381679</td>\n      <td>0.014599</td>\n      <td>0.000213</td>\n      <td>0.000176</td>\n      <td>0.0</td>\n      <td>0.0</td>\n      <td>...</td>\n      <td>0.000000</td>\n      <td>0.0</td>\n      <td>0.0</td>\n      <td>0.0</td>\n      <td>0.000000</td>\n      <td>0.000000</td>\n      <td>0.000000</td>\n      <td>0.0</td>\n      <td>0.0</td>\n      <td>0.0</td>\n    </tr>\n    <tr>\n      <th>2</th>\n      <td>0.0</td>\n      <td>0.001839</td>\n      <td>0.210566</td>\n      <td>0.780</td>\n      <td>0.381679</td>\n      <td>0.481752</td>\n      <td>0.000213</td>\n      <td>0.000176</td>\n      <td>0.0</td>\n      <td>0.0</td>\n      <td>...</td>\n      <td>0.000000</td>\n      <td>0.0</td>\n      <td>0.0</td>\n      <td>0.0</td>\n      <td>0.000000</td>\n      <td>0.000000</td>\n      <td>0.000000</td>\n      <td>0.0</td>\n      <td>0.0</td>\n      <td>0.0</td>\n    </tr>\n    <tr>\n      <th>3</th>\n      <td>0.0</td>\n      <td>0.001558</td>\n      <td>0.984824</td>\n      <td>0.934</td>\n      <td>0.381679</td>\n      <td>0.124088</td>\n      <td>0.000427</td>\n      <td>0.000878</td>\n      <td>0.0</td>\n      <td>0.0</td>\n      <td>...</td>\n      <td>0.002448</td>\n      <td>0.0</td>\n      <td>0.0</td>\n      <td>0.0</td>\n      <td>0.000533</td>\n      <td>0.010476</td>\n      <td>0.008022</td>\n      <td>0.0</td>\n      <td>0.0</td>\n      <td>0.0</td>\n    </tr>\n    <tr>\n      <th>4</th>\n      <td>0.0</td>\n      <td>0.001558</td>\n      <td>0.201023</td>\n      <td>0.828</td>\n      <td>0.381679</td>\n      <td>0.014599</td>\n      <td>0.000213</td>\n      <td>0.000176</td>\n      <td>0.0</td>\n      <td>0.0</td>\n      <td>...</td>\n      <td>0.000000</td>\n      <td>0.0</td>\n      <td>0.0</td>\n      <td>0.0</td>\n      <td>0.000000</td>\n      <td>0.000000</td>\n      <td>0.000000</td>\n      <td>0.0</td>\n      <td>0.0</td>\n      <td>0.0</td>\n    </tr>\n  </tbody>\n</table>\n<p>5 rows × 107 columns</p>\n</div>"
     },
     "execution_count": 63,
     "metadata": {},
     "output_type": "execute_result"
    }
   ],
   "source": [
    "#df['col']=(df['col']-df['col'].min())/(df['col'].max()-df['col'].min())\n",
    "\n",
    "# For all columns but isFraud apply the line above\n",
    "for column in df_toStore.columns:\n",
    "    df_toStore[column] = (df_toStore[column]-df_toStore[column].min())/(df_toStore[column].max()-df_toStore[column].min())\n",
    "\n",
    "df_toStore.head()"
   ],
   "metadata": {
    "collapsed": false,
    "ExecuteTime": {
     "start_time": "2024-01-25T16:03:30.932853Z",
     "end_time": "2024-01-25T16:03:39.690995Z"
    }
   }
  },
  {
   "cell_type": "code",
   "execution_count": 67,
   "outputs": [
    {
     "name": "stderr",
     "output_type": "stream",
     "text": [
      "C:\\Users\\dalun\\AppData\\Local\\Temp\\ipykernel_39684\\3893080557.py:5: PerformanceWarning: DataFrame is highly fragmented.  This is usually the result of calling `frame.insert` many times, which has poor performance.  Consider joining all columns at once using pd.concat(axis=1) instead. To get a de-fragmented frame, use `newframe = frame.copy()`\n",
      "  df.insert(df_toStore.shape[1]-1, \"isFraud\", column_to_move)\n"
     ]
    },
    {
     "data": {
      "text/plain": "   TransactionAmt     card1  card2     card3     card5        C1        C2  \\\n0        0.002137  0.743044    NaN  0.381679  0.306569  0.000213  0.000176   \n1        0.000900  0.100885  0.608  0.381679  0.014599  0.000213  0.000176   \n2        0.001839  0.210566  0.780  0.381679  0.481752  0.000213  0.000176   \n3        0.001558  0.984824  0.934  0.381679  0.124088  0.000427  0.000878   \n4        0.001558  0.201023  0.828  0.381679  0.014599  0.000213  0.000176   \n\n    C3   C4   C5  ...  V313  V314  V315      V316      V317      V318  V319  \\\n0  0.0  0.0  0.0  ...   0.0   0.0   0.0  0.000000  0.000873  0.000000   0.0   \n1  0.0  0.0  0.0  ...   0.0   0.0   0.0  0.000000  0.000000  0.000000   0.0   \n2  0.0  0.0  0.0  ...   0.0   0.0   0.0  0.000000  0.000000  0.000000   0.0   \n3  0.0  0.0  0.0  ...   0.0   0.0   0.0  0.000533  0.010476  0.008022   0.0   \n4  0.0  0.0  0.0  ...   0.0   0.0   0.0  0.000000  0.000000  0.000000   0.0   \n\n   V320  V321  isFraud  \n0   0.0   0.0      0.0  \n1   0.0   0.0      0.0  \n2   0.0   0.0      0.0  \n3   0.0   0.0      0.0  \n4   0.0   0.0      0.0  \n\n[5 rows x 107 columns]",
      "text/html": "<div>\n<style scoped>\n    .dataframe tbody tr th:only-of-type {\n        vertical-align: middle;\n    }\n\n    .dataframe tbody tr th {\n        vertical-align: top;\n    }\n\n    .dataframe thead th {\n        text-align: right;\n    }\n</style>\n<table border=\"1\" class=\"dataframe\">\n  <thead>\n    <tr style=\"text-align: right;\">\n      <th></th>\n      <th>TransactionAmt</th>\n      <th>card1</th>\n      <th>card2</th>\n      <th>card3</th>\n      <th>card5</th>\n      <th>C1</th>\n      <th>C2</th>\n      <th>C3</th>\n      <th>C4</th>\n      <th>C5</th>\n      <th>...</th>\n      <th>V313</th>\n      <th>V314</th>\n      <th>V315</th>\n      <th>V316</th>\n      <th>V317</th>\n      <th>V318</th>\n      <th>V319</th>\n      <th>V320</th>\n      <th>V321</th>\n      <th>isFraud</th>\n    </tr>\n  </thead>\n  <tbody>\n    <tr>\n      <th>0</th>\n      <td>0.002137</td>\n      <td>0.743044</td>\n      <td>NaN</td>\n      <td>0.381679</td>\n      <td>0.306569</td>\n      <td>0.000213</td>\n      <td>0.000176</td>\n      <td>0.0</td>\n      <td>0.0</td>\n      <td>0.0</td>\n      <td>...</td>\n      <td>0.0</td>\n      <td>0.0</td>\n      <td>0.0</td>\n      <td>0.000000</td>\n      <td>0.000873</td>\n      <td>0.000000</td>\n      <td>0.0</td>\n      <td>0.0</td>\n      <td>0.0</td>\n      <td>0.0</td>\n    </tr>\n    <tr>\n      <th>1</th>\n      <td>0.000900</td>\n      <td>0.100885</td>\n      <td>0.608</td>\n      <td>0.381679</td>\n      <td>0.014599</td>\n      <td>0.000213</td>\n      <td>0.000176</td>\n      <td>0.0</td>\n      <td>0.0</td>\n      <td>0.0</td>\n      <td>...</td>\n      <td>0.0</td>\n      <td>0.0</td>\n      <td>0.0</td>\n      <td>0.000000</td>\n      <td>0.000000</td>\n      <td>0.000000</td>\n      <td>0.0</td>\n      <td>0.0</td>\n      <td>0.0</td>\n      <td>0.0</td>\n    </tr>\n    <tr>\n      <th>2</th>\n      <td>0.001839</td>\n      <td>0.210566</td>\n      <td>0.780</td>\n      <td>0.381679</td>\n      <td>0.481752</td>\n      <td>0.000213</td>\n      <td>0.000176</td>\n      <td>0.0</td>\n      <td>0.0</td>\n      <td>0.0</td>\n      <td>...</td>\n      <td>0.0</td>\n      <td>0.0</td>\n      <td>0.0</td>\n      <td>0.000000</td>\n      <td>0.000000</td>\n      <td>0.000000</td>\n      <td>0.0</td>\n      <td>0.0</td>\n      <td>0.0</td>\n      <td>0.0</td>\n    </tr>\n    <tr>\n      <th>3</th>\n      <td>0.001558</td>\n      <td>0.984824</td>\n      <td>0.934</td>\n      <td>0.381679</td>\n      <td>0.124088</td>\n      <td>0.000427</td>\n      <td>0.000878</td>\n      <td>0.0</td>\n      <td>0.0</td>\n      <td>0.0</td>\n      <td>...</td>\n      <td>0.0</td>\n      <td>0.0</td>\n      <td>0.0</td>\n      <td>0.000533</td>\n      <td>0.010476</td>\n      <td>0.008022</td>\n      <td>0.0</td>\n      <td>0.0</td>\n      <td>0.0</td>\n      <td>0.0</td>\n    </tr>\n    <tr>\n      <th>4</th>\n      <td>0.001558</td>\n      <td>0.201023</td>\n      <td>0.828</td>\n      <td>0.381679</td>\n      <td>0.014599</td>\n      <td>0.000213</td>\n      <td>0.000176</td>\n      <td>0.0</td>\n      <td>0.0</td>\n      <td>0.0</td>\n      <td>...</td>\n      <td>0.0</td>\n      <td>0.0</td>\n      <td>0.0</td>\n      <td>0.000000</td>\n      <td>0.000000</td>\n      <td>0.000000</td>\n      <td>0.0</td>\n      <td>0.0</td>\n      <td>0.0</td>\n      <td>0.0</td>\n    </tr>\n  </tbody>\n</table>\n<p>5 rows × 107 columns</p>\n</div>"
     },
     "execution_count": 67,
     "metadata": {},
     "output_type": "execute_result"
    }
   ],
   "source": [
    "# Move isFraud to the right\n",
    "from copy import copy\n",
    "df = copy(df_toStore)\n",
    "column_to_move = df.pop(\"isFraud\")\n",
    "df.insert(df_toStore.shape[1]-1, \"isFraud\", column_to_move)\n",
    "df.head()"
   ],
   "metadata": {
    "collapsed": false,
    "ExecuteTime": {
     "start_time": "2024-01-25T16:04:12.915367Z",
     "end_time": "2024-01-25T16:04:13.554193Z"
    }
   }
  },
  {
   "cell_type": "code",
   "execution_count": 70,
   "outputs": [],
   "source": [
    "df.to_csv('vesta_fullDataset_preprocessed.csv', index=False)\n"
   ],
   "metadata": {
    "collapsed": false,
    "ExecuteTime": {
     "start_time": "2024-01-25T16:06:39.765270Z",
     "end_time": "2024-01-25T16:08:07.937188Z"
    }
   }
  },
  {
   "cell_type": "code",
   "execution_count": 71,
   "outputs": [
    {
     "data": {
      "text/plain": "   TransactionAmt     card1  card2     card3     card5        C1        C2  \\\n0        0.002137  0.743044    NaN  0.381679  0.306569  0.000213  0.000176   \n1        0.000900  0.100885  0.608  0.381679  0.014599  0.000213  0.000176   \n2        0.001839  0.210566  0.780  0.381679  0.481752  0.000213  0.000176   \n3        0.001558  0.984824  0.934  0.381679  0.124088  0.000427  0.000878   \n4        0.001558  0.201023  0.828  0.381679  0.014599  0.000213  0.000176   \n\n    C3   C4   C5  ...  V313  V314  V315      V316      V317      V318  V319  \\\n0  0.0  0.0  0.0  ...   0.0   0.0   0.0  0.000000  0.000873  0.000000   0.0   \n1  0.0  0.0  0.0  ...   0.0   0.0   0.0  0.000000  0.000000  0.000000   0.0   \n2  0.0  0.0  0.0  ...   0.0   0.0   0.0  0.000000  0.000000  0.000000   0.0   \n3  0.0  0.0  0.0  ...   0.0   0.0   0.0  0.000533  0.010476  0.008022   0.0   \n4  0.0  0.0  0.0  ...   0.0   0.0   0.0  0.000000  0.000000  0.000000   0.0   \n\n   V320  V321  isFraud  \n0   0.0   0.0      0.0  \n1   0.0   0.0      0.0  \n2   0.0   0.0      0.0  \n3   0.0   0.0      0.0  \n4   0.0   0.0      0.0  \n\n[5 rows x 107 columns]",
      "text/html": "<div>\n<style scoped>\n    .dataframe tbody tr th:only-of-type {\n        vertical-align: middle;\n    }\n\n    .dataframe tbody tr th {\n        vertical-align: top;\n    }\n\n    .dataframe thead th {\n        text-align: right;\n    }\n</style>\n<table border=\"1\" class=\"dataframe\">\n  <thead>\n    <tr style=\"text-align: right;\">\n      <th></th>\n      <th>TransactionAmt</th>\n      <th>card1</th>\n      <th>card2</th>\n      <th>card3</th>\n      <th>card5</th>\n      <th>C1</th>\n      <th>C2</th>\n      <th>C3</th>\n      <th>C4</th>\n      <th>C5</th>\n      <th>...</th>\n      <th>V313</th>\n      <th>V314</th>\n      <th>V315</th>\n      <th>V316</th>\n      <th>V317</th>\n      <th>V318</th>\n      <th>V319</th>\n      <th>V320</th>\n      <th>V321</th>\n      <th>isFraud</th>\n    </tr>\n  </thead>\n  <tbody>\n    <tr>\n      <th>0</th>\n      <td>0.002137</td>\n      <td>0.743044</td>\n      <td>NaN</td>\n      <td>0.381679</td>\n      <td>0.306569</td>\n      <td>0.000213</td>\n      <td>0.000176</td>\n      <td>0.0</td>\n      <td>0.0</td>\n      <td>0.0</td>\n      <td>...</td>\n      <td>0.0</td>\n      <td>0.0</td>\n      <td>0.0</td>\n      <td>0.000000</td>\n      <td>0.000873</td>\n      <td>0.000000</td>\n      <td>0.0</td>\n      <td>0.0</td>\n      <td>0.0</td>\n      <td>0.0</td>\n    </tr>\n    <tr>\n      <th>1</th>\n      <td>0.000900</td>\n      <td>0.100885</td>\n      <td>0.608</td>\n      <td>0.381679</td>\n      <td>0.014599</td>\n      <td>0.000213</td>\n      <td>0.000176</td>\n      <td>0.0</td>\n      <td>0.0</td>\n      <td>0.0</td>\n      <td>...</td>\n      <td>0.0</td>\n      <td>0.0</td>\n      <td>0.0</td>\n      <td>0.000000</td>\n      <td>0.000000</td>\n      <td>0.000000</td>\n      <td>0.0</td>\n      <td>0.0</td>\n      <td>0.0</td>\n      <td>0.0</td>\n    </tr>\n    <tr>\n      <th>2</th>\n      <td>0.001839</td>\n      <td>0.210566</td>\n      <td>0.780</td>\n      <td>0.381679</td>\n      <td>0.481752</td>\n      <td>0.000213</td>\n      <td>0.000176</td>\n      <td>0.0</td>\n      <td>0.0</td>\n      <td>0.0</td>\n      <td>...</td>\n      <td>0.0</td>\n      <td>0.0</td>\n      <td>0.0</td>\n      <td>0.000000</td>\n      <td>0.000000</td>\n      <td>0.000000</td>\n      <td>0.0</td>\n      <td>0.0</td>\n      <td>0.0</td>\n      <td>0.0</td>\n    </tr>\n    <tr>\n      <th>3</th>\n      <td>0.001558</td>\n      <td>0.984824</td>\n      <td>0.934</td>\n      <td>0.381679</td>\n      <td>0.124088</td>\n      <td>0.000427</td>\n      <td>0.000878</td>\n      <td>0.0</td>\n      <td>0.0</td>\n      <td>0.0</td>\n      <td>...</td>\n      <td>0.0</td>\n      <td>0.0</td>\n      <td>0.0</td>\n      <td>0.000533</td>\n      <td>0.010476</td>\n      <td>0.008022</td>\n      <td>0.0</td>\n      <td>0.0</td>\n      <td>0.0</td>\n      <td>0.0</td>\n    </tr>\n    <tr>\n      <th>4</th>\n      <td>0.001558</td>\n      <td>0.201023</td>\n      <td>0.828</td>\n      <td>0.381679</td>\n      <td>0.014599</td>\n      <td>0.000213</td>\n      <td>0.000176</td>\n      <td>0.0</td>\n      <td>0.0</td>\n      <td>0.0</td>\n      <td>...</td>\n      <td>0.0</td>\n      <td>0.0</td>\n      <td>0.0</td>\n      <td>0.000000</td>\n      <td>0.000000</td>\n      <td>0.000000</td>\n      <td>0.0</td>\n      <td>0.0</td>\n      <td>0.0</td>\n      <td>0.0</td>\n    </tr>\n  </tbody>\n</table>\n<p>5 rows × 107 columns</p>\n</div>"
     },
     "execution_count": 71,
     "metadata": {},
     "output_type": "execute_result"
    }
   ],
   "source": [
    "new_df_vesta = pd.read_csv('vesta_fullDataset_preprocessed.csv')\n",
    "new_df_vesta.head()"
   ],
   "metadata": {
    "collapsed": false,
    "ExecuteTime": {
     "start_time": "2024-01-25T16:08:07.940797Z",
     "end_time": "2024-01-25T16:08:21.037843Z"
    }
   }
  },
  {
   "cell_type": "code",
   "execution_count": null,
   "outputs": [],
   "source": [],
   "metadata": {
    "collapsed": false
   }
  }
 ],
 "metadata": {
  "kernelspec": {
   "display_name": "Python 3",
   "language": "python",
   "name": "python3"
  },
  "language_info": {
   "codemirror_mode": {
    "name": "ipython",
    "version": 2
   },
   "file_extension": ".py",
   "mimetype": "text/x-python",
   "name": "python",
   "nbconvert_exporter": "python",
   "pygments_lexer": "ipython2",
   "version": "2.7.6"
  }
 },
 "nbformat": 4,
 "nbformat_minor": 0
}
